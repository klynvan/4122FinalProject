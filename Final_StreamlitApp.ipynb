{
 "cells": [
  {
   "cell_type": "code",
   "execution_count": 14,
   "id": "34db54e0",
   "metadata": {},
   "outputs": [],
   "source": [
    "import pandas as pd\n",
    "import streamlit as st\n",
    "import plotly.express as px"
   ]
  },
  {
   "cell_type": "code",
   "execution_count": 15,
   "id": "e68b68be",
   "metadata": {},
   "outputs": [
    {
     "data": {
      "text/plain": [
       "DeltaGenerator()"
      ]
     },
     "execution_count": 15,
     "metadata": {},
     "output_type": "execute_result"
    }
   ],
   "source": [
    "# Load the data\n",
    "data = pd.read_csv(\"combined.csv\")\n",
    "\n",
    "# Set up the Streamlit app\n",
    "st.title(\"World Happiness Report 2015\")\n",
    "st.sidebar.title(\"Filter Countries\")\n",
    "economy_status = st.sidebar.radio(\"Economy\", [\"Developed\", \"Developing\", \"Both\"])\n",
    "pop_min, pop_max = st.sidebar.slider(\"Population\", 0, int(data[\"Population_mln\"].max()), (0, int(data[\"Population_mln\"].max())))\n",
    "gen_min, gen_max = st.sidebar.slider(\"Generosity\", 0.0, 1.0, (0.0, 1.0))\n",
    "trust_min, trust_max = st.sidebar.slider(\"Government Trust\", 0.0, 1.0, (0.0, 1.0))\n",
    "school_min, school_max = st.sidebar.slider(\"Schooling\", 0, int(data[\"Schooling\"].max()), (0, int(data[\"Schooling\"].max())))\n",
    "free_min, free_max = st.sidebar.slider(\"Freedom\", 0.0, 1.0, (0.0, 1.0))\n",
    "gdp_min, gdp_max = st.sidebar.slider(\"GDP per capita\", 0, int(data[\"GDP_per_capita\"].max()), (0, int(data[\"GDP_per_capita\"].max())))\n",
    "\n",
    "# Filter the data based on the selected economy and population range\n",
    "if economy_status == 'Developed':\n",
    "    data = data[data['Economy_status_Developed'] == 1]\n",
    "elif economy_status == 'Developing':\n",
    "    data = data[data['Economy_status_Developing'] == 1]\n",
    "\n",
    "data = data[(data[\"Population_mln\"] >= pop_min) & (data[\"Population_mln\"] <= pop_max)]\n",
    "data = data[(data[\"Generosity\"] >= gen_min) & (data[\"Generosity\"] <= gen_max)]\n",
    "data = data[(data[\"Trust (Government Corruption)\"] >= trust_min) & (data[\"Trust (Government Corruption)\"] <= trust_max)]\n",
    "data = data[(data[\"Schooling\"] >= school_min) & (data[\"Schooling\"] <= school_max)]\n",
    "data = data[(data[\"Freedom\"] >= free_min) & (data[\"Freedom\"] <= free_max)]\n",
    "data = data[(data[\"GDP_per_capita\"] >= gdp_min) & (data[\"GDP_per_capita\"] <= gdp_max)]\n",
    "\n",
    "# Set up the choropleth map\n",
    "fig = px.choropleth(data,\n",
    "                    locations=\"Country\",\n",
    "                    locationmode=\"country names\",\n",
    "                    color=\"Happiness Score\",\n",
    "                    hover_name=\"Country\",\n",
    "                    hover_data=[\"Generosity\", \"Population_mln\", \"Trust (Government Corruption)\", \"Schooling\", \"Freedom\", \"GDP_per_capita\"],\n",
    "                    color_continuous_scale=\"RdBu\",\n",
    "                    range_color=[0, 10])\n",
    "\n",
    "# Display the choropleth map\n",
    "st.plotly_chart(fig)\n"
   ]
  }
 ],
 "metadata": {
  "kernelspec": {
   "display_name": "Python 3 (ipykernel)",
   "language": "python",
   "name": "python3"
  },
  "language_info": {
   "codemirror_mode": {
    "name": "ipython",
    "version": 3
   },
   "file_extension": ".py",
   "mimetype": "text/x-python",
   "name": "python",
   "nbconvert_exporter": "python",
   "pygments_lexer": "ipython3",
   "version": "3.9.13"
  }
 },
 "nbformat": 4,
 "nbformat_minor": 5
}
